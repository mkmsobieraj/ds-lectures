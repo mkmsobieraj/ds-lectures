{
 "cells": [
  {
   "cell_type": "markdown",
   "id": "hundred-intent",
   "metadata": {},
   "source": [
    "# Technology stack"
   ]
  },
  {
   "cell_type": "markdown",
   "id": "outstanding-paragraph",
   "metadata": {},
   "source": [
    "- `python` - programing language\n",
    "- `NumPy` - scientific computing library\n",
    "- `pandas` - data analysis library (gives DataFrame abstraction)\n",
    "- `seaborn` - data visualization library\n",
    "- `scikit-learn` - machine learning library\n",
    "- `...`"
   ]
  },
  {
   "cell_type": "markdown",
   "id": "rational-northwest",
   "metadata": {},
   "source": [
    "# Data Science pipline"
   ]
  },
  {
   "cell_type": "markdown",
   "id": "intensive-project",
   "metadata": {},
   "source": [
    "## Define the prblem"
   ]
  },
  {
   "cell_type": "markdown",
   "id": "excellent-paintball",
   "metadata": {},
   "source": [
    "First of all, we need to know what is a purpuse of our analysis. Mayby we want to predict probability of default, predict price of a house, investigate with genes couses some disise, or arrange product in the shoop to optimalize our profit. Whatever it is, precise definition of the problem is one of the most important stage of data analysys."
   ]
  },
  {
   "cell_type": "markdown",
   "id": "international-flooring",
   "metadata": {},
   "source": [
    "## Gather and prepare the data"
   ]
  },
  {
   "cell_type": "markdown",
   "id": "electronic-happiness",
   "metadata": {},
   "source": [
    "When we sucesfully define problem we need to find and download the data witch can consists wanted information. We need to find suitable data sources, download data, and transforme it to fromat with is siutable to further work."
   ]
  },
  {
   "cell_type": "markdown",
   "id": "proprietary-tanzania",
   "metadata": {},
   "source": [
    "## Clean and standarize the data, create new features"
   ]
  },
  {
   "cell_type": "markdown",
   "id": "retired-lighting",
   "metadata": {},
   "source": [
    "## Perform eda"
   ]
  },
  {
   "cell_type": "markdown",
   "id": "recognized-swimming",
   "metadata": {},
   "source": [
    "We have data in final 'clean' form, but looking on data in raw farmat do not give us many insights. We perform explaratory data analysis (draw structure, and relation between data etc.) to better understend data structure."
   ]
  },
  {
   "cell_type": "markdown",
   "id": "agricultural-allowance",
   "metadata": {},
   "source": [
    "## Create the model"
   ]
  },
  {
   "cell_type": "markdown",
   "id": "minute-wrestling",
   "metadata": {},
   "source": [
    "## Tune and optimize the model"
   ]
  },
  {
   "cell_type": "markdown",
   "id": "lesser-seating",
   "metadata": {},
   "source": [
    "## Implement the model"
   ]
  },
  {
   "cell_type": "markdown",
   "id": "opposed-chinese",
   "metadata": {},
   "source": [
    "## Create monitoring for the model "
   ]
  },
  {
   "cell_type": "markdown",
   "id": "extensive-hazard",
   "metadata": {},
   "source": [
    "# Why we need data sciance and modeling"
   ]
  },
  {
   "cell_type": "code",
   "execution_count": null,
   "id": "pleasant-broad",
   "metadata": {},
   "outputs": [],
   "source": []
  }
 ],
 "metadata": {
  "kernelspec": {
   "display_name": "Python 3",
   "language": "python",
   "name": "python3"
  },
  "language_info": {
   "codemirror_mode": {
    "name": "ipython",
    "version": 3
   },
   "file_extension": ".py",
   "mimetype": "text/x-python",
   "name": "python",
   "nbconvert_exporter": "python",
   "pygments_lexer": "ipython3",
   "version": "3.8.10"
  }
 },
 "nbformat": 4,
 "nbformat_minor": 5
}
